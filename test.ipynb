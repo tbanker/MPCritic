{
 "cells": [
  {
   "cell_type": "code",
   "execution_count": 1,
   "metadata": {},
   "outputs": [],
   "source": [
    "import numpy as np\n",
    "import torch\n",
    "from torch.optim import SGD\n",
    "import casadi as ca\n",
    "\n",
    "from modules.modules. import TestModel"
   ]
  },
  {
   "cell_type": "markdown",
   "metadata": {},
   "source": [
    "### Numpy-Pytorch Memory Sharing"
   ]
  },
  {
   "cell_type": "code",
   "execution_count": 2,
   "metadata": {},
   "outputs": [
    {
     "name": "stdout",
     "output_type": "stream",
     "text": [
      "Parameter containing:\n",
      "tensor([1.], dtype=torch.float64, requires_grad=True)\n"
     ]
    }
   ],
   "source": [
    "p = np.array([1.])\n",
    "model = TestModel(p)\n",
    "optim = SGD(model.parameters())\n",
    "print(model.p)\n",
    "\n",
    "x = torch.tensor([1], dtype=torch.float32)"
   ]
  },
  {
   "cell_type": "code",
   "execution_count": 3,
   "metadata": {},
   "outputs": [
    {
     "name": "stdout",
     "output_type": "stream",
     "text": [
      "Parameter containing:\n",
      "tensor([2.], dtype=torch.float64, requires_grad=True) [2.]\n",
      "Parameter containing:\n",
      "tensor([3.], dtype=torch.float64, requires_grad=True) [3.]\n",
      "Parameter containing:\n",
      "tensor([2.9990], dtype=torch.float64, requires_grad=True) [2.999]\n"
     ]
    }
   ],
   "source": [
    "# in-place operation\n",
    "p+=1\n",
    "print(model.p, p)\n",
    "\n",
    "p[0] = 3\n",
    "print(model.p, p)\n",
    "\n",
    "# pytorch optimizer\n",
    "loss = model(x)\n",
    "optim.zero_grad()\n",
    "loss.backward()\n",
    "optim.step()\n",
    "print(model.p, p)"
   ]
  },
  {
   "cell_type": "markdown",
   "metadata": {},
   "source": [
    "### Casadi Derivatives (1D)"
   ]
  },
  {
   "cell_type": "code",
   "execution_count": 4,
   "metadata": {},
   "outputs": [
    {
     "name": "stdout",
     "output_type": "stream",
     "text": [
      "Function value at (1.0, 2.0): 5\n",
      "Jacobian at (1.0, 2.0):\n",
      "2\n"
     ]
    }
   ],
   "source": [
    "# Create symbolic variables\n",
    "x = ca.SX.sym('x') # ca.MX.sym('x')\n",
    "y = ca.SX.sym('y') # ca.MX.sym('y')\n",
    "\n",
    "# Define an expression\n",
    "f = x**2 + y**2  # Simple example: f(x, y) = x^2 + y^2\n",
    "\n",
    "# Create a CasADi function from the expression\n",
    "func = ca.Function('f', [x, y], [f])\n",
    "\n",
    "# Define the Jacobian of the expression\n",
    "jacobian = ca.jacobian(f, x)\n",
    "\n",
    "# Create a function for the Jacobian\n",
    "jacobian_func = ca.Function('jacobian', [x, y], [jacobian])\n",
    "\n",
    "# Now, we can evaluate the function and its Jacobian at specific values\n",
    "x_value = np.array(1.0)\n",
    "y_value = np.array(2.0)\n",
    "\n",
    "f_val = func(x_value, y_value)\n",
    "jacobian_val = jacobian_func(x_value, y_value)\n",
    "\n",
    "# Output the results\n",
    "print(f\"Function value at ({x_value}, {y_value}): {f_val}\")\n",
    "print(f\"Jacobian at ({x_value}, {y_value}):\\n{jacobian_val}\")\n"
   ]
  },
  {
   "cell_type": "code",
   "execution_count": 5,
   "metadata": {},
   "outputs": [
    {
     "name": "stdout",
     "output_type": "stream",
     "text": [
      "Function values for batch:\n",
      "[5, 13, 25]\n",
      "\n",
      "Jacobian values for batch:\n",
      "[2, 4, 6]\n"
     ]
    }
   ],
   "source": [
    "# Batch input values: Let's evaluate for 3 different (x, y) pairs\n",
    "x_batch = np.array([1.0, 2.0, 3.0])\n",
    "y_batch = np.array([2.0, 3.0, 4.0])\n",
    "\n",
    "# Call the function and Jacobian in a batch\n",
    "f_vals = func(x_batch, y_batch)  # Evaluate f(x, y) for the batch\n",
    "jacobian_vals = jacobian_func(x_batch, y_batch)  # Evaluate Jacobian for the batch\n",
    "\n",
    "# Print the results\n",
    "print(\"Function values for batch:\")\n",
    "print(f_vals)\n",
    "\n",
    "print(\"\\nJacobian values for batch:\")\n",
    "print(jacobian_vals)"
   ]
  },
  {
   "cell_type": "markdown",
   "metadata": {},
   "source": [
    "### Casadi Derivatives (2D)"
   ]
  },
  {
   "cell_type": "code",
   "execution_count": 6,
   "metadata": {},
   "outputs": [
    {
     "name": "stdout",
     "output_type": "stream",
     "text": [
      "Function value at ([1. 2.], 2.0): 13\n",
      "Jacobian at ([1. 2.], 2.0):\n",
      "[[6, 6]]\n"
     ]
    }
   ],
   "source": [
    "# Create symbolic variables\n",
    "x = ca.SX.sym('x', 2) # ca.MX.sym('x')\n",
    "y = ca.SX.sym('y', 1) # ca.MX.sym('y')\n",
    "\n",
    "# Define an expression\n",
    "f = ca.sum1(x)**2 + y**2  # Simple example: f(x, y) = x^2 + y^2\n",
    "\n",
    "# Create a CasADi function from the expression\n",
    "func = ca.Function('f', [x, y], [f])\n",
    "\n",
    "# Define the Jacobian of the expression\n",
    "jacobian = ca.jacobian(f, x)\n",
    "\n",
    "# Create a function for the Jacobian\n",
    "jacobian_func = ca.Function('jacobian', [x, y], [jacobian])\n",
    "\n",
    "# Now, we can evaluate the function and its Jacobian at specific values\n",
    "x_value = np.array([1.0, 2.0])\n",
    "y_value = 2.0\n",
    "\n",
    "f_val = func(x_value, y_value)\n",
    "jacobian_val = jacobian_func(x_value, y_value)\n",
    "\n",
    "# Output the results\n",
    "print(f\"Function value at ({x_value}, {y_value}): {f_val}\")\n",
    "print(f\"Jacobian at ({x_value}, {y_value}):\\n{jacobian_val}\")\n"
   ]
  },
  {
   "cell_type": "code",
   "execution_count": 7,
   "metadata": {},
   "outputs": [
    {
     "name": "stdout",
     "output_type": "stream",
     "text": [
      "Function values for batch:\n",
      "[[13, 34, 65]]\n",
      "\n",
      "Jacobian values for batch:\n",
      "[[6, 6, 10, 10, 14, 14]]\n"
     ]
    }
   ],
   "source": [
    "# Batch input values: Let's evaluate for 3 different (x, y) pairs\n",
    "x_batch = np.array([[1.0, 2.0, 3.0],\n",
    "                    [2.0, 3.0, 4.0]])\n",
    "# y_batch = np.array([2.0, 3.0, 4.0])\n",
    "y_batch = np.array([[2.0, 3.0, 4.0]])\n",
    "\n",
    "# Call the function and Jacobian in a batch\n",
    "f_vals = func(x_batch, y_batch)  # Evaluate f(x, y) for the batch\n",
    "jacobian_vals = jacobian_func(x_batch, y_batch)  # Evaluate Jacobian for the batch\n",
    "\n",
    "# Print the results\n",
    "print(\"Function values for batch:\")\n",
    "print(f_vals)\n",
    "\n",
    "print(\"\\nJacobian values for batch:\")\n",
    "print(jacobian_vals)"
   ]
  },
  {
   "cell_type": "code",
   "execution_count": null,
   "metadata": {},
   "outputs": [],
   "source": []
  }
 ],
 "metadata": {
  "kernelspec": {
   "display_name": "MPC-Critic",
   "language": "python",
   "name": "python3"
  },
  "language_info": {
   "codemirror_mode": {
    "name": "ipython",
    "version": 3
   },
   "file_extension": ".py",
   "mimetype": "text/x-python",
   "name": "python",
   "nbconvert_exporter": "python",
   "pygments_lexer": "ipython3",
   "version": "3.10.16"
  }
 },
 "nbformat": 4,
 "nbformat_minor": 2
}
